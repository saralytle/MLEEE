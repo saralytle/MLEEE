{
 "cells": [
  {
   "cell_type": "code",
   "execution_count": 1,
   "metadata": {},
   "outputs": [
    {
     "name": "stdout",
     "output_type": "stream",
     "text": [
      "2.0.0\n"
     ]
    }
   ],
   "source": [
    "from __future__ import absolute_import, division, print_function, unicode_literals\n",
    "\n",
    "import pathlib\n",
    "\n",
    "import matplotlib.pyplot as plt\n",
    "import pandas as pd\n",
    "import seaborn as sns\n",
    "\n",
    "import tensorflow as tf\n",
    "\n",
    "from tensorflow import keras\n",
    "from tensorflow.keras import layers\n",
    "\n",
    "print(tf.__version__)\n",
    "\n",
    "%matplotlib inline\n",
    "import numpy as np\n",
    "from scipy.integrate import odeint\n",
    "from scipy import *\n",
    "from scipy.optimize import minimize\n",
    "import copy\n",
    "from sklearn import preprocessing\n",
    "\n",
    "import numpy as np\n",
    "import matplotlib.pyplot as plt\n",
    "\n",
    "import emcee\n",
    "import corner\n",
    "\n",
    "from smt.sampling_methods import LHS"
   ]
  },
  {
   "cell_type": "code",
   "execution_count": 2,
   "metadata": {},
   "outputs": [
    {
     "name": "stdout",
     "output_type": "stream",
     "text": [
      "(200, 3)\n"
     ]
    },
    {
     "data": {
      "image/png": "[encoded data removed]",
      "text/plain": [
       "<Figure size 432x288 with 1 Axes>"
      ]
     },
     "metadata": {
      "needs_background": "light"
     },
     "output_type": "display_data"
    }
   ],
   "source": [
    "### STEP 1: 2 Latin Hypercube sampling\n",
    "#xlimits = np.array([[0.0, 4.0], [0.0, 1.0], [0.0, 3.0]])\n",
    "xlimits = np.array([[0.0, 9.0], [0.0, 1.0], [1.0, 5.0]]) #w0, z, z0 #change when desired\n",
    "sampling = LHS(xlimits=xlimits)\n",
    "\n",
    "num=1000\n",
    "\n",
    "num_train = 800 \n",
    "x_train = sampling(num_train)\n",
    "\n",
    "num_test = 200 \n",
    "x_test = sampling(num_test)\n",
    "\n",
    "print(x_test.shape)\n",
    "\n",
    "plt.plot(x_test[:, 0], x_test[:, 1], \"o\")\n",
    "plt.xlabel(\"w0\")\n",
    "plt.ylabel(\"z\")\n",
    "plt.show()"
   ]
  },
  {
   "cell_type": "code",
   "execution_count": 3,
   "metadata": {},
   "outputs": [
    {
     "name": "stdout",
     "output_type": "stream",
     "text": [
      "           w0         z      y0\n",
      "0    0.399375  0.404375  2.8025\n",
      "1    3.965625  0.996875  1.4225\n",
      "2    7.138125  0.838125  4.9725\n",
      "3    1.141875  0.456875  2.1175\n",
      "4    5.045625  0.159375  2.2275\n",
      "..        ...       ...     ...\n",
      "795  6.361875  0.690625  2.9675\n",
      "796  2.626875  0.991875  4.0325\n",
      "797  6.969375  0.470625  1.6575\n",
      "798  8.499375  0.445625  1.8225\n",
      "799  8.488125  0.959375  2.0575\n",
      "\n",
      "[800 rows x 3 columns]\n",
      "         w0       z    y0\n",
      "0    8.2125  0.0425  4.07\n",
      "1    8.2575  0.8325  1.69\n",
      "2    7.9875  0.7125  4.95\n",
      "3    5.2875  0.4675  2.89\n",
      "4    3.8025  0.0675  2.71\n",
      "..      ...     ...   ...\n",
      "195  1.3275  0.9175  1.99\n",
      "196  1.9125  0.7875  1.21\n",
      "197  2.4075  0.8175  3.17\n",
      "198  4.8825  0.9425  2.39\n",
      "199  6.1425  0.8625  2.03\n",
      "\n",
      "[200 rows x 3 columns]\n"
     ]
    }
   ],
   "source": [
    "### Step 2: Make DataFrame of inputs\n",
    "df_train = pd.DataFrame(x_train)\n",
    "df_train.columns = ['w0', 'z', 'y0']\n",
    "print(df_train)\n",
    "\n",
    "df_test = pd.DataFrame(x_test)\n",
    "df_test.columns = ['w0', 'z', 'y0']\n",
    "print(df_test)"
   ]
  },
  {
   "cell_type": "code",
   "execution_count": 4,
   "metadata": {},
   "outputs": [],
   "source": [
    "### Step 3 Harmonic Oscillator Function, make DataFrame of outputs\n",
    "def dy(y, t, w0, zeta):\n",
    "    \"\"\"\n",
    "    The right-hand side of the damped oscillator ODE\n",
    "    \"\"\"\n",
    "    x, p = y[0], y[1]\n",
    "    \n",
    "    dx = p\n",
    "    dp = -2 * zeta * w0 * p - w0**2 * x \n",
    "\n",
    "    return [dx, dp]\n",
    "\n",
    "t = linspace(0, 10, 100)\n",
    "\n",
    "output = pd.DataFrame(columns = ['0.1', '0.5', '1.0', '1.1', '1.5', '2.0', '2.5', '5.0', '6.0', '8.0'])\n",
    "output_test = pd.DataFrame(columns = ['0.1', '0.5', '1.0', '1.1', '1.5', '2.0', '2.5', '5.0', '6.0', '8.0'])\n",
    "\n",
    "for i in range(num_train): #num\n",
    "    y2 = odeint(dy, [df_train.y0[i], 0], t, args=(df_train.w0[i], df_train.z[i]))\n",
    "    #take value of y2 where t = .1 , .5, 1, 1.1, 1.5, 2, 2.5, 5, 6, 8\n",
    "    output.loc[i] = [y2[:,0][1]] + [y2[:,0][5]] + [y2[:,0][10]] + [y2[:,0][11]] + [y2[:,0][15]] + [y2[:,0][20]] + [y2[:,0][25]] + [y2[:,0][50]] + [y2[:,0][60]] + [y2[:,0][80]]        \n",
    "    \n",
    "    \n",
    "for i in range(num_test): #num\n",
    "    y2_test = odeint(dy, [df_test.y0[i], 0], t, args=(df_test.w0[i], df_test.z[i]))\n",
    "    #take value of y2 where t = .1 , .5, 1, 1.1, 1.5, 2, 2.5, 5, 6, 8\n",
    "    output_test.loc[i] = [y2_test[:,0][1]] + [y2_test[:,0][5]] + [y2_test[:,0][10]] + [y2_test[:,0][11]] + [y2_test[:,0][15]] + [y2_test[:,0][20]] + [y2_test[:,0][25]] + [y2_test[:,0][50]] + [y2_test[:,0][60]] + [y2_test[:,0][80]]           "
   ]
  },
  {
   "cell_type": "code",
   "execution_count": null,
   "metadata": {},
   "outputs": [],
   "source": []
  },
  {
   "cell_type": "code",
   "execution_count": 7,
   "metadata": {},
   "outputs": [
    {
     "name": "stdout",
     "output_type": "stream",
     "text": [
      "(100, 2)\n",
      "(10,)\n",
      "[[ 1.00000000e+00  0.00000000e+00]\n",
      " [ 8.28838244e-01 -3.21883662e+00]\n",
      " [ 3.99169800e-01 -4.99042615e+00]\n",
      " [-1.15357422e-01 -4.88567290e+00]\n",
      " [-5.32451049e-01 -3.15390988e+00]\n",
      " [-7.23313597e-01 -5.61810747e-01]\n",
      " [-6.49742666e-01  1.92285734e+00]\n",
      " [-3.66604799e-01  3.47884107e+00]\n",
      " [ 7.19450739e-03  3.69017678e+00]\n",
      " [ 3.35909636e-01  2.63946591e+00]\n",
      " [ 5.14415021e-01  8.23251854e-01]\n",
      " [ 4.99975542e-01 -1.06180577e+00]\n",
      " [ 3.19460534e-01 -2.37547887e+00]\n",
      " [ 5.23844777e-02 -2.74230315e+00]\n",
      " [-2.01776920e-01 -2.14730866e+00]\n",
      " [-3.59235880e-01 -8.99890051e-01]\n",
      " [-3.78209520e-01  5.07011631e-01]\n",
      " [-2.68141524e-01  1.58322571e+00]\n",
      " [-8.06863661e-02  2.00547029e+00]\n",
      " [ 1.12437426e-01  1.70675066e+00]\n",
      " [ 2.45796651e-01  8.69577456e-01]\n",
      " [ 2.81476437e-01 -1.63741132e-01]\n",
      " [ 2.18657994e-01 -1.02417305e+00]\n",
      " [ 8.96586122e-02 -1.44280997e+00]\n",
      " [-5.46922259e-02 -1.32964685e+00]\n",
      " [-1.64217567e-01 -7.83352933e-01]\n",
      " [-2.06151050e-01 -3.66338157e-02]\n",
      " [-1.74141378e-01  6.37133665e-01]\n",
      " [-8.73675538e-02  1.02025242e+00]\n",
      " [ 1.88093707e-02  1.01737858e+00]\n",
      " [ 1.06555906e-01  6.73538868e-01]\n",
      " [ 1.48540158e-01  1.43001648e-01]\n",
      " [ 1.35901847e-01 -3.74944585e-01]\n",
      " [ 7.91160540e-02 -7.07984744e-01]\n",
      " [ 2.27199020e-03 -7.65503547e-01]\n",
      " [-6.65621838e-02 -5.59657408e-01]\n",
      " [-1.05209446e-01 -1.89564488e-01]\n",
      " [-1.04150978e-01  2.01872951e-01]\n",
      " [-6.82744222e-02  4.80905152e-01]\n",
      " [-1.35896977e-02  5.66758300e-01]\n",
      " [ 3.94114081e-02  4.52683902e-01]\n",
      " [ 7.31411165e-02  1.99772325e-01]\n",
      " [ 7.84842236e-02 -9.12848439e-02]\n",
      " [ 5.68887531e-02 -3.18493880e-01]\n",
      " [ 1.86743614e-02 -4.12922871e-01]\n",
      " [-2.14422862e-02 -3.58051603e-01]\n",
      " [-4.97863338e-02 -1.89330653e-01]\n",
      " [-5.81932705e-02  2.36437267e-02]\n",
      " [-4.61187704e-02  2.04374597e-01]\n",
      " [-1.99514358e-02  2.95914005e-01]\n",
      " [ 9.92178730e-03  2.77735295e-01]\n",
      " [ 3.30564536e-02  1.68461527e-01]\n",
      " [ 4.24609481e-02  1.51490473e-02]\n",
      " [ 3.65477644e-02 -1.25744143e-01]\n",
      " [ 1.90491328e-02 -2.08371133e-01]\n",
      " [-2.84225567e-03 -2.11664942e-01]\n",
      " [-2.12811828e-02 -1.43576752e-01]\n",
      " [-3.04761616e-02 -3.50962689e-02]\n",
      " [-2.83978408e-02  7.27743084e-02]\n",
      " [-1.70303109e-02  1.43917859e-01]\n",
      " [-1.24737041e-03  1.58660814e-01]\n",
      " [ 1.31523336e-02  1.18495792e-01]\n",
      " [ 2.14961187e-02  4.31646768e-02]\n",
      " [ 2.16762507e-02 -3.80472940e-02]\n",
      " [ 1.45642175e-02 -9.72250930e-02]\n",
      " [ 3.37827871e-03 -1.17031990e-01]\n",
      " [-7.66403824e-03 -9.53177755e-02]\n",
      " [-1.48748089e-02 -4.41066713e-02]\n",
      " [-1.62724792e-02  1.60546791e-02]\n",
      " [-1.20517694e-02  6.39625963e-02]\n",
      " [-4.26993868e-03  8.49444914e-02]\n",
      " [ 4.05597786e-03  7.50354049e-02]\n",
      " [ 1.00708254e-02  4.10857739e-02]\n",
      " [ 1.20206494e-02 -2.77115017e-03]\n",
      " [ 9.71539783e-03 -4.06919964e-02]\n",
      " [ 4.41413684e-03 -6.06333257e-02]\n",
      " [-1.76274791e-03 -5.79579896e-02]\n",
      " [-6.64317975e-03 -3.61452250e-02]\n",
      " [-8.73794098e-03 -4.69703938e-03]\n",
      " [-7.66231002e-03  2.47368675e-02]\n",
      " [-4.13904190e-03  4.25124638e-02]\n",
      " [ 3.70533005e-04  4.39975020e-02]\n",
      " [ 4.24102415e-03  3.05534087e-02]\n",
      " [ 6.24696456e-03  8.39447758e-03]\n",
      " [ 5.92828914e-03 -1.40509844e-02]\n",
      " [ 3.65726319e-03 -2.92205848e-02]\n",
      " [ 4.18605674e-04 -3.28560506e-02]\n",
      " [-2.59077094e-03 -2.50545063e-02]\n",
      " [-4.38750740e-03 -9.73867024e-03]\n",
      " [-4.50729019e-03  7.09578346e-03]\n",
      " [-3.10136648e-03  1.96281490e-02]\n",
      " [-8.15535886e-04  2.41453648e-02]\n",
      " [ 1.48294158e-03  2.00470149e-02]\n",
      " [ 3.02156495e-03  9.69145081e-03]\n",
      " [ 3.37092239e-03 -2.73311121e-03]\n",
      " [ 2.54957744e-03 -1.28225032e-02]\n",
      " [ 9.66703682e-04 -1.74586709e-02]\n",
      " [-7.59773083e-04 -1.57088679e-02]\n",
      " [-2.03429176e-03 -8.88905657e-03]\n",
      " [-2.48088640e-03  1.34237692e-04]]\n"
     ]
    },
    {
     "data": {
      "image/png": "[encoded data removed]",
      "text/plain": [
       "<Figure size 432x288 with 1 Axes>"
      ]
     },
     "metadata": {
      "needs_background": "light"
     },
     "output_type": "display_data"
    }
   ],
   "source": [
    "#..TRUE PARAMER VALS\n",
    "w0_val = 6.0 #can change\n",
    "z_val = 0.1 #can change\n",
    "y0_val = 1.0 #can change\n",
    "\n",
    "y_obs = odeint(dy, [y0_val, 0], t, args=(w0_val, z_val)) \n",
    "plt.plot(t,y_obs)\n",
    "print(y_obs.shape)\n",
    "\n",
    "yobs = np.r_[y_obs[1,0],y_obs[5,0],y_obs[10,0],y_obs[11,0],y_obs[15,0],\n",
    "             y_obs[20,0],y_obs[25,0],y_obs[50,0],y_obs[60,0],y_obs[80,0]]\n",
    "\n",
    "print(yobs.shape)\n",
    "print(y_obs)"
   ]
  },
  {
   "cell_type": "code",
   "execution_count": 8,
   "metadata": {},
   "outputs": [
    {
     "name": "stdout",
     "output_type": "stream",
     "text": [
      "           w0         z      y0\n",
      "0    0.399375  0.404375  2.8025\n",
      "1    3.965625  0.996875  1.4225\n",
      "2    7.138125  0.838125  4.9725\n",
      "3    1.141875  0.456875  2.1175\n",
      "4    5.045625  0.159375  2.2275\n",
      "..        ...       ...     ...\n",
      "795  6.361875  0.690625  2.9675\n",
      "796  2.626875  0.991875  4.0325\n",
      "797  6.969375  0.470625  1.6575\n",
      "798  8.499375  0.445625  1.8225\n",
      "799  8.488125  0.959375  2.0575\n",
      "\n",
      "[800 rows x 3 columns]\n",
      "         w0       z    y0\n",
      "0    8.2125  0.0425  4.07\n",
      "1    8.2575  0.8325  1.69\n",
      "2    7.9875  0.7125  4.95\n",
      "3    5.2875  0.4675  2.89\n",
      "4    3.8025  0.0675  2.71\n",
      "..      ...     ...   ...\n",
      "195  1.3275  0.9175  1.99\n",
      "196  1.9125  0.7875  1.21\n",
      "197  2.4075  0.8175  3.17\n",
      "198  4.8825  0.9425  2.39\n",
      "199  6.1425  0.8625  2.03\n",
      "\n",
      "[200 rows x 3 columns]\n",
      "(800, 3)\n",
      "(200, 3)\n"
     ]
    }
   ],
   "source": [
    "print(df_train)\n",
    "print(df_test)\n",
    "print(df_train.shape)\n",
    "print(df_test.shape)\n",
    "train_dataset = df_train\n",
    "test_dataset = df_test\n",
    "train_output = output\n",
    "test_output = output_test"
   ]
  },
  {
   "cell_type": "code",
   "execution_count": 9,
   "metadata": {},
   "outputs": [
    {
     "data": {
      "text/plain": [
       "<seaborn.axisgrid.PairGrid at 0x7f1dc0386f28>"
      ]
     },
     "execution_count": 9,
     "metadata": {},
     "output_type": "execute_result"
    },
    {
     "data": {
      "image/png": "[encoded data removed]",
      "text/plain": [
       "<Figure size 540x540 with 12 Axes>"
      ]
     },
     "metadata": {
      "needs_background": "light"
     },
     "output_type": "display_data"
    }
   ],
   "source": [
    "sns.pairplot(test_dataset[['w0', 'z', 'y0']], diag_kind=\"kde\")"
   ]
  },
  {
   "cell_type": "code",
   "execution_count": 10,
   "metadata": {},
   "outputs": [],
   "source": [
    "### Step 5: normalize/standardize input/output\n",
    "def standard(x): #this is the standarization function for output\n",
    "    return (x - np.array(train_stats_output['mean'])/ np.array(train_stats_output['std']))\n",
    "\n",
    "#normalize the train dataset for parameters (generic)\n",
    "def norm1(x):\n",
    "    return (x - np.min(x))/(np.max(x)-np.min(x))\n",
    "\n",
    "#normalize the train dataset for parameters \n",
    "def norm(x):\n",
    "    return (x - np.array(np.min(train_dataset)))/(np.array(np.max(train_dataset))-\n",
    "                                                  np.array(np.min(train_dataset)))\n",
    "\n",
    "train_stats_output = train_output.describe()\n",
    "train_stats_output = train_stats_output.transpose()\n",
    "    \n",
    "#parameters\n",
    "normed_train_data = norm(np.array(train_dataset))\n",
    "normed_test_data = norm(np.array(test_dataset))\n",
    "\n",
    "#yobs norm\n",
    "\n",
    "yobs = standard(np.array(yobs))\n",
    "\n",
    "#output\n",
    "std_train_data = standard(np.array(train_output))\n",
    "std_test_data = standard(np.array(test_output))"
   ]
  },
  {
   "cell_type": "code",
   "execution_count": 12,
   "metadata": {},
   "outputs": [
    {
     "name": "stdout",
     "output_type": "stream",
     "text": [
      "[[0.04380476 0.40425532 0.4505632 ]\n",
      " [0.44055069 0.99749687 0.10513141]\n",
      " [0.79349186 0.83854819 0.99374218]\n",
      " ...\n",
      " [0.7747184  0.47058824 0.16395494]\n",
      " [0.94493116 0.44555695 0.20525657]\n",
      " [0.9436796  0.95994994 0.2640801 ]]\n",
      "           w0         z      y0\n",
      "0    0.399375  0.404375  2.8025\n",
      "1    3.965625  0.996875  1.4225\n",
      "2    7.138125  0.838125  4.9725\n",
      "3    1.141875  0.456875  2.1175\n",
      "4    5.045625  0.159375  2.2275\n",
      "..        ...       ...     ...\n",
      "795  6.361875  0.690625  2.9675\n",
      "796  2.626875  0.991875  4.0325\n",
      "797  6.969375  0.470625  1.6575\n",
      "798  8.499375  0.445625  1.8225\n",
      "799  8.488125  0.959375  2.0575\n",
      "\n",
      "[800 rows x 3 columns]\n",
      "[-1.67833401 -1.08202038  0.21257517  0.24933203 -0.57236346  0.06720758\n",
      " -0.35134946 -0.08036279 -0.08510926 -0.03899381]\n"
     ]
    }
   ],
   "source": [
    "#double check everything looks okay\n",
    "print(normed_train_data)\n",
    "print(train_dataset)\n",
    "print(yobs)"
   ]
  },
  {
   "cell_type": "code",
   "execution_count": 13,
   "metadata": {},
   "outputs": [],
   "source": [
    "### Step 6: Model Time\n",
    "def build_model():\n",
    "  model = keras.Sequential([\n",
    "    layers.Dense(64, activation='relu', input_shape=[3]), #input_shape = # of params on first layer\n",
    "    layers.Dense(64, activation='relu'), \n",
    "    layers.Dense(64, activation='relu'), \n",
    "    layers.Dense(10) #this is marcus nobs\n",
    "  ])\n",
    "\n",
    "  optimizer = tf.keras.optimizers.RMSprop(0.001)\n",
    "\n",
    "  model.compile(loss='mse',\n",
    "                optimizer=optimizer,\n",
    "                metrics=['mae', 'mse'])\n",
    "  return model"
   ]
  },
  {
   "cell_type": "code",
   "execution_count": 14,
   "metadata": {},
   "outputs": [
    {
     "name": "stdout",
     "output_type": "stream",
     "text": [
      "Model: \"sequential\"\n",
      "_________________________________________________________________\n",
      "Layer (type)                 Output Shape              Param #   \n",
      "=================================================================\n",
      "dense (Dense)                (None, 64)                256       \n",
      "_________________________________________________________________\n",
      "dense_1 (Dense)              (None, 64)                4160      \n",
      "_________________________________________________________________\n",
      "dense_2 (Dense)              (None, 64)                4160      \n",
      "_________________________________________________________________\n",
      "dense_3 (Dense)              (None, 10)                650       \n",
      "=================================================================\n",
      "Total params: 9,226\n",
      "Trainable params: 9,226\n",
      "Non-trainable params: 0\n",
      "_________________________________________________________________\n"
     ]
    }
   ],
   "source": [
    "### Step 7: Build model\n",
    "model = build_model()\n",
    "model.summary()"
   ]
  },
  {
   "cell_type": "code",
   "execution_count": 15,
   "metadata": {},
   "outputs": [
    {
     "name": "stdout",
     "output_type": "stream",
     "text": [
      "\n",
      "....................................................................................................\n",
      "....................................................................................................\n",
      "....................................................................................................\n",
      "....................................................................................................\n",
      "....................................................................................................\n",
      "....................................................................................................\n",
      "....................................................................................................\n",
      "....................................................................................................\n",
      "....................................................................................................\n",
      "....................................................................................................\n",
      "....................................................................................................\n",
      "....................................................................................................\n",
      "....................................................................................................\n",
      "....................................................................................................\n",
      "....................................................................................................\n",
      "....................................................................................................\n",
      "....................................................................................................\n",
      "....................................................................................................\n",
      "....................................................................................................\n",
      "...................................................................................................."
     ]
    }
   ],
   "source": [
    "### Step 8: Model fit ### steps after this for lots of graphs\n",
    "\n",
    "##just for progress bar\n",
    "class PrintDot(keras.callbacks.Callback):\n",
    "  def on_epoch_end(self, epoch, logs):\n",
    "    if epoch % 100 == 0: print('')\n",
    "    print('.', end='')\n",
    "   \n",
    "##\n",
    "EPOCHS = 2000\n",
    "\n",
    "early_stop = keras.callbacks.EarlyStopping(monitor='val_loss', patience=10)\n",
    "\n",
    "history = model.fit( #para_nor, \n",
    "  normed_train_data, std_train_data,     #train_labels,\n",
    "  epochs=EPOCHS, \n",
    "    #validation_split = 0.2,\n",
    "    validation_data=[normed_test_data, std_test_data],\n",
    "    verbose=0,\n",
    "  callbacks=[PrintDot()])    "
   ]
  },
  {
   "cell_type": "code",
   "execution_count": 17,
   "metadata": {},
   "outputs": [
    {
     "data": {
      "image/png": "[encoded data removed]",
      "text/plain": [
       "<Figure size 432x288 with 1 Axes>"
      ]
     },
     "metadata": {
      "needs_background": "light"
     },
     "output_type": "display_data"
    },
    {
     "data": {
      "image/png": "[encoded data removed]",
      "text/plain": [
       "<Figure size 432x288 with 1 Axes>"
      ]
     },
     "metadata": {
      "needs_background": "light"
     },
     "output_type": "display_data"
    }
   ],
   "source": [
    "def plot_history(history):\n",
    "  hist = pd.DataFrame(history.history)\n",
    "  hist['epoch'] = history.epoch\n",
    "\n",
    "  plt.figure()\n",
    "  plt.xlabel('Epoch')\n",
    "  plt.ylabel('Mean Abs Error [w0]')\n",
    "  plt.plot(hist['epoch'], hist['mae'],\n",
    "           label='Train Error')\n",
    "  plt.plot(hist['epoch'], hist['val_mae'],\n",
    "           label = 'Val Error')\n",
    "  plt.ylim([0,.8])\n",
    "  plt.legend()\n",
    "\n",
    "  plt.figure()\n",
    "  plt.xlabel('Epoch')\n",
    "  plt.ylabel('Mean Square Error [$w0^2$]')\n",
    "  plt.plot(hist['epoch'], hist['mse'],\n",
    "           label='Train Error')\n",
    "  plt.plot(hist['epoch'], hist['val_mse'],\n",
    "           label = 'Val Error')\n",
    "  plt.ylim([0,1])\n",
    "  plt.legend()\n",
    "  plt.show()\n",
    "\n",
    "plot_history(history)"
   ]
  },
  {
   "cell_type": "code",
   "execution_count": 18,
   "metadata": {},
   "outputs": [
    {
     "data": {
      "text/html": [
       "<div>\n",
       "<style scoped>\n",
       "    .dataframe tbody tr th:only-of-type {\n",
       "        vertical-align: middle;\n",
       "    }\n",
       "\n",
       "    .dataframe tbody tr th {\n",
       "        vertical-align: top;\n",
       "    }\n",
       "\n",
       "    .dataframe thead th {\n",
       "        text-align: right;\n",
       "    }\n",
       "</style>\n",
       "<table border=\"1\" class=\"dataframe\">\n",
       "  <thead>\n",
       "    <tr style=\"text-align: right;\">\n",
       "      <th></th>\n",
       "      <th>loss</th>\n",
       "      <th>mae</th>\n",
       "      <th>mse</th>\n",
       "      <th>val_loss</th>\n",
       "      <th>val_mae</th>\n",
       "      <th>val_mse</th>\n",
       "      <th>epoch</th>\n",
       "    </tr>\n",
       "  </thead>\n",
       "  <tbody>\n",
       "    <tr>\n",
       "      <td>1995</td>\n",
       "      <td>0.004516</td>\n",
       "      <td>0.041125</td>\n",
       "      <td>0.004516</td>\n",
       "      <td>0.068977</td>\n",
       "      <td>0.076257</td>\n",
       "      <td>0.068977</td>\n",
       "      <td>1995</td>\n",
       "    </tr>\n",
       "    <tr>\n",
       "      <td>1996</td>\n",
       "      <td>0.004816</td>\n",
       "      <td>0.042014</td>\n",
       "      <td>0.004816</td>\n",
       "      <td>0.066068</td>\n",
       "      <td>0.072902</td>\n",
       "      <td>0.066068</td>\n",
       "      <td>1996</td>\n",
       "    </tr>\n",
       "    <tr>\n",
       "      <td>1997</td>\n",
       "      <td>0.004834</td>\n",
       "      <td>0.043478</td>\n",
       "      <td>0.004834</td>\n",
       "      <td>0.067269</td>\n",
       "      <td>0.072379</td>\n",
       "      <td>0.067269</td>\n",
       "      <td>1997</td>\n",
       "    </tr>\n",
       "    <tr>\n",
       "      <td>1998</td>\n",
       "      <td>0.004806</td>\n",
       "      <td>0.043216</td>\n",
       "      <td>0.004806</td>\n",
       "      <td>0.074880</td>\n",
       "      <td>0.079068</td>\n",
       "      <td>0.074880</td>\n",
       "      <td>1998</td>\n",
       "    </tr>\n",
       "    <tr>\n",
       "      <td>1999</td>\n",
       "      <td>0.004432</td>\n",
       "      <td>0.042033</td>\n",
       "      <td>0.004432</td>\n",
       "      <td>0.076002</td>\n",
       "      <td>0.074753</td>\n",
       "      <td>0.076002</td>\n",
       "      <td>1999</td>\n",
       "    </tr>\n",
       "  </tbody>\n",
       "</table>\n",
       "</div>"
      ],
      "text/plain": [
       "          loss       mae       mse  val_loss   val_mae   val_mse  epoch\n",
       "1995  0.004516  0.041125  0.004516  0.068977  0.076257  0.068977   1995\n",
       "1996  0.004816  0.042014  0.004816  0.066068  0.072902  0.066068   1996\n",
       "1997  0.004834  0.043478  0.004834  0.067269  0.072379  0.067269   1997\n",
       "1998  0.004806  0.043216  0.004806  0.074880  0.079068  0.074880   1998\n",
       "1999  0.004432  0.042033  0.004432  0.076002  0.074753  0.076002   1999"
      ]
     },
     "execution_count": 18,
     "metadata": {},
     "output_type": "execute_result"
    }
   ],
   "source": [
    "hist = pd.DataFrame(history.history)\n",
    "hist['epoch'] = history.epoch\n",
    "hist.tail()"
   ]
  },
  {
   "cell_type": "code",
   "execution_count": 19,
   "metadata": {},
   "outputs": [
    {
     "name": "stdout",
     "output_type": "stream",
     "text": [
      "(10,)\n",
      "(100,)\n"
     ]
    }
   ],
   "source": [
    "yerr = 0.1 #+ 0.02 * np.random.rand(N)\n",
    "y = copy.deepcopy(y2[:,0])\n",
    "print(yobs.shape)\n",
    "print(y.shape)"
   ]
  },
  {
   "cell_type": "code",
   "execution_count": 20,
   "metadata": {},
   "outputs": [],
   "source": [
    "def log_likelihood(x,y,yerr): \n",
    "    model_predictions = model.predict(np.array([x]))\n",
    "    sigma2=yerr**2\n",
    "    return -0.5 * np.sum((y - model_predictions.ravel()) ** 2 / sigma2 + np.log(sigma2))\n",
    "\n",
    "def log_prior(x):\n",
    "    if 0.0 < x[0] < 1.0 and 0.0 < x[1] < 1.0 and 0.0 < x[2] < 1.0: #noramlized here\n",
    "        return 0.0\n",
    "    return -np.inf\n",
    "\n",
    "def log_probability(x, y, yerr):\n",
    "    lp = log_prior(x)\n",
    "    if not np.isfinite(lp):\n",
    "        return -np.inf\n",
    "    return lp + log_likelihood(x, y, yerr)"
   ]
  },
  {
   "cell_type": "code",
   "execution_count": null,
   "metadata": {},
   "outputs": [
    {
     "name": "stdout",
     "output_type": "stream",
     "text": [
      "(32, 3)\n"
     ]
    },
    {
     "name": "stderr",
     "output_type": "stream",
     "text": [
      "  1%|          | 38/5000 [00:43<1:57:55,  1.43s/it]"
     ]
    }
   ],
   "source": [
    "w_samp = np.random.rand(32,1)*(1.)+0.\n",
    "z_samp = np.random.rand(32,1)*(1.-0.)+0.\n",
    "y_samp = np.random.rand(32,1)*(1.-0.)+0.\n",
    "pos = np.hstack((w_samp,z_samp, y_samp))\n",
    "print(pos.shape)\n",
    "\n",
    "nwalkers, ndim = pos.shape\n",
    "\n",
    "###to save\n",
    "filename = \"V2_2LHC_newparamX_norm.h5\" #can change\n",
    "backend = emcee.backends.HDFBackend(filename)\n",
    "backend.reset(nwalkers, ndim)\n",
    "\n",
    "sampler = emcee.EnsembleSampler(nwalkers, ndim, log_probability, args=(yobs,yerr), backend=backend)\n",
    "sampler.run_mcmc(pos, 5000, progress=True); "
   ]
  },
  {
   "cell_type": "code",
   "execution_count": null,
   "metadata": {},
   "outputs": [],
   "source": [
    "fig, axes = plt.subplots(3, figsize=(10, 7), sharex=True)\n",
    "samples = sampler.get_chain()\n",
    "labels = [\"w0\", \"z\", \"y0\"]\n",
    "for i in range(ndim):\n",
    "    ax = axes[i]\n",
    "    ax.plot(samples[:, :, i], \"k\", alpha=0.3)\n",
    "    ax.set_xlim(0, len(samples))\n",
    "    ax.set_ylabel(labels[i])\n",
    "    ax.yaxis.set_label_coords(-0.1, 0.5)\n",
    "\n",
    "axes[-1].set_xlabel(\"step number\");"
   ]
  },
  {
   "cell_type": "code",
   "execution_count": null,
   "metadata": {},
   "outputs": [],
   "source": [
    "flat_samples = sampler.get_chain(discard=100, thin=15, flat=True)\n",
    "print(flat_samples.shape)\n",
    "print(flat_samples)"
   ]
  },
  {
   "cell_type": "code",
   "execution_count": null,
   "metadata": {},
   "outputs": [],
   "source": [
    "print(train_dataset[:])"
   ]
  },
  {
   "cell_type": "code",
   "execution_count": null,
   "metadata": {},
   "outputs": [],
   "source": [
    "def anti_norm(N, ogdataset):\n",
    "    return (N*(np.max(ogdataset)-np.min(ogdataset))+np.min(ogdataset))\n",
    "\n",
    "unnorm_samples = pd.DataFrame()\n",
    "\n",
    "uno = (anti_norm(flat_samples[:,0],train_dataset['w0']))\n",
    "dos = (anti_norm(flat_samples[:,1],train_dataset['z']))\n",
    "tres = (anti_norm(flat_samples[:,2],train_dataset['y0']))\n",
    "\n",
    "unnorm_samples['w0'] = uno\n",
    "unnorm_samples['z']= dos\n",
    "unnorm_samples['y0']= tres\n",
    "\n",
    "print(unnorm_samples)"
   ]
  },
  {
   "cell_type": "code",
   "execution_count": null,
   "metadata": {},
   "outputs": [],
   "source": [
    "fig = corner.corner(\n",
    "    unnorm_samples, truths=[w0_val, z_val, y0_val] \n",
    ");"
   ]
  },
  {
   "cell_type": "code",
   "execution_count": null,
   "metadata": {},
   "outputs": [],
   "source": [
    "fig = corner.corner(flat_samples)"
   ]
  },
  {
   "cell_type": "code",
   "execution_count": null,
   "metadata": {},
   "outputs": [],
   "source": []
  }
 ],
 "metadata": {
  "kernelspec": {
   "display_name": "Python 3",
   "language": "python",
   "name": "python3"
  },
  "language_info": {
   "codemirror_mode": {
    "name": "ipython",
    "version": 3
   },
   "file_extension": ".py",
   "mimetype": "text/x-python",
   "name": "python",
   "nbconvert_exporter": "python",
   "pygments_lexer": "ipython3",
   "version": "3.6.7"
  }
 },
 "nbformat": 4,
 "nbformat_minor": 2
}
